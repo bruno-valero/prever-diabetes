{
 "cells": [
  {
   "cell_type": "markdown",
   "id": "abd93dae",
   "metadata": {},
   "source": [
    "### **Nesse Projeto irei prever se uma pessoa irá desenvolver Diabetes**"
   ]
  },
  {
   "cell_type": "markdown",
   "id": "9c842717",
   "metadata": {},
   "source": [
    "#### **Primeiros Passos:**\n",
    "* Definir as Fontes de Dados;\n",
    "* Compreender os Atributos dos Dados coletados;\n",
    "* Selecionar as Ferramentas de Análise mais adequadas;\n",
    "* Definir o resultado esperado. Neste caso: Verdadeiro ou Falso;\n",
    "* Definir o Nível de Acurácia: 70% de Precisão."
   ]
  },
  {
   "cell_type": "markdown",
   "id": "7ff451ee-4de1-480b-bb11-7cdf75c5c185",
   "metadata": {},
   "source": [
    "#### Fonte dos Dados:\n",
    "* **Conjunto de Dadso do Repositório de Machine Learning do Kaggle\n",
    "* https://www.kaggle.com/uciml/pima-indians-diabetes-database/data"
   ]
  },
  {
   "cell_type": "markdown",
   "id": "4387e8ef-11a8-495a-a3c7-1e23a569c17e",
   "metadata": {},
   "source": [
    "#### Compreender os Atributos dos Dadso Coletados:"
   ]
  },
  {
   "cell_type": "code",
   "execution_count": 1,
   "id": "049cbb28-092b-4fdb-a868-ddb0c7ef867a",
   "metadata": {},
   "outputs": [],
   "source": [
    "# imports\n",
    "import pandas as pd\n",
    "import numpy as np\n",
    "import matplotlib.pyplot as plt\n",
    "import seaborn as sns\n",
    "%matplotlib inline"
   ]
  },
  {
   "cell_type": "markdown",
   "id": "ad4b30f8-6dd0-42b3-91d7-21359595aaee",
   "metadata": {},
   "source": [
    "* Carregando os Dados"
   ]
  },
  {
   "cell_type": "code",
   "execution_count": 2,
   "id": "fcc0ec3a-293e-4262-be7c-a2902f19576f",
   "metadata": {},
   "outputs": [],
   "source": [
    "df = pd.read_csv('pima-data.csv')"
   ]
  },
  {
   "cell_type": "code",
   "execution_count": 3,
   "id": "94b90af3-f1e9-459a-a3ce-f1063f67be5a",
   "metadata": {},
   "outputs": [
    {
     "data": {
      "text/html": [
       "<div>\n",
       "<style scoped>\n",
       "    .dataframe tbody tr th:only-of-type {\n",
       "        vertical-align: middle;\n",
       "    }\n",
       "\n",
       "    .dataframe tbody tr th {\n",
       "        vertical-align: top;\n",
       "    }\n",
       "\n",
       "    .dataframe thead th {\n",
       "        text-align: right;\n",
       "    }\n",
       "</style>\n",
       "<table border=\"1\" class=\"dataframe\">\n",
       "  <thead>\n",
       "    <tr style=\"text-align: right;\">\n",
       "      <th></th>\n",
       "      <th>num_preg</th>\n",
       "      <th>glucose_conc</th>\n",
       "      <th>diastolic_bp</th>\n",
       "      <th>thickness</th>\n",
       "      <th>insulin</th>\n",
       "      <th>bmi</th>\n",
       "      <th>diab_pred</th>\n",
       "      <th>age</th>\n",
       "      <th>skin</th>\n",
       "      <th>diabetes</th>\n",
       "    </tr>\n",
       "  </thead>\n",
       "  <tbody>\n",
       "    <tr>\n",
       "      <th>0</th>\n",
       "      <td>6</td>\n",
       "      <td>148</td>\n",
       "      <td>72</td>\n",
       "      <td>35</td>\n",
       "      <td>0</td>\n",
       "      <td>33.6</td>\n",
       "      <td>0.627</td>\n",
       "      <td>50</td>\n",
       "      <td>1.3780</td>\n",
       "      <td>True</td>\n",
       "    </tr>\n",
       "    <tr>\n",
       "      <th>1</th>\n",
       "      <td>1</td>\n",
       "      <td>85</td>\n",
       "      <td>66</td>\n",
       "      <td>29</td>\n",
       "      <td>0</td>\n",
       "      <td>26.6</td>\n",
       "      <td>0.351</td>\n",
       "      <td>31</td>\n",
       "      <td>1.1426</td>\n",
       "      <td>False</td>\n",
       "    </tr>\n",
       "    <tr>\n",
       "      <th>2</th>\n",
       "      <td>8</td>\n",
       "      <td>183</td>\n",
       "      <td>64</td>\n",
       "      <td>0</td>\n",
       "      <td>0</td>\n",
       "      <td>23.3</td>\n",
       "      <td>0.672</td>\n",
       "      <td>32</td>\n",
       "      <td>0.0000</td>\n",
       "      <td>True</td>\n",
       "    </tr>\n",
       "    <tr>\n",
       "      <th>3</th>\n",
       "      <td>1</td>\n",
       "      <td>89</td>\n",
       "      <td>66</td>\n",
       "      <td>23</td>\n",
       "      <td>94</td>\n",
       "      <td>28.1</td>\n",
       "      <td>0.167</td>\n",
       "      <td>21</td>\n",
       "      <td>0.9062</td>\n",
       "      <td>False</td>\n",
       "    </tr>\n",
       "    <tr>\n",
       "      <th>4</th>\n",
       "      <td>0</td>\n",
       "      <td>137</td>\n",
       "      <td>40</td>\n",
       "      <td>35</td>\n",
       "      <td>168</td>\n",
       "      <td>43.1</td>\n",
       "      <td>2.288</td>\n",
       "      <td>33</td>\n",
       "      <td>1.3790</td>\n",
       "      <td>True</td>\n",
       "    </tr>\n",
       "    <tr>\n",
       "      <th>...</th>\n",
       "      <td>...</td>\n",
       "      <td>...</td>\n",
       "      <td>...</td>\n",
       "      <td>...</td>\n",
       "      <td>...</td>\n",
       "      <td>...</td>\n",
       "      <td>...</td>\n",
       "      <td>...</td>\n",
       "      <td>...</td>\n",
       "      <td>...</td>\n",
       "    </tr>\n",
       "    <tr>\n",
       "      <th>763</th>\n",
       "      <td>10</td>\n",
       "      <td>101</td>\n",
       "      <td>76</td>\n",
       "      <td>48</td>\n",
       "      <td>180</td>\n",
       "      <td>32.9</td>\n",
       "      <td>0.171</td>\n",
       "      <td>63</td>\n",
       "      <td>1.8912</td>\n",
       "      <td>False</td>\n",
       "    </tr>\n",
       "    <tr>\n",
       "      <th>764</th>\n",
       "      <td>2</td>\n",
       "      <td>122</td>\n",
       "      <td>70</td>\n",
       "      <td>27</td>\n",
       "      <td>0</td>\n",
       "      <td>36.8</td>\n",
       "      <td>0.340</td>\n",
       "      <td>27</td>\n",
       "      <td>1.0638</td>\n",
       "      <td>False</td>\n",
       "    </tr>\n",
       "    <tr>\n",
       "      <th>765</th>\n",
       "      <td>5</td>\n",
       "      <td>121</td>\n",
       "      <td>72</td>\n",
       "      <td>23</td>\n",
       "      <td>112</td>\n",
       "      <td>26.2</td>\n",
       "      <td>0.245</td>\n",
       "      <td>30</td>\n",
       "      <td>0.9062</td>\n",
       "      <td>False</td>\n",
       "    </tr>\n",
       "    <tr>\n",
       "      <th>766</th>\n",
       "      <td>1</td>\n",
       "      <td>126</td>\n",
       "      <td>60</td>\n",
       "      <td>0</td>\n",
       "      <td>0</td>\n",
       "      <td>30.1</td>\n",
       "      <td>0.349</td>\n",
       "      <td>47</td>\n",
       "      <td>0.0000</td>\n",
       "      <td>True</td>\n",
       "    </tr>\n",
       "    <tr>\n",
       "      <th>767</th>\n",
       "      <td>1</td>\n",
       "      <td>93</td>\n",
       "      <td>70</td>\n",
       "      <td>31</td>\n",
       "      <td>0</td>\n",
       "      <td>30.4</td>\n",
       "      <td>0.315</td>\n",
       "      <td>23</td>\n",
       "      <td>1.2214</td>\n",
       "      <td>False</td>\n",
       "    </tr>\n",
       "  </tbody>\n",
       "</table>\n",
       "<p>768 rows × 10 columns</p>\n",
       "</div>"
      ],
      "text/plain": [
       "     num_preg  glucose_conc  diastolic_bp  thickness  insulin   bmi  \\\n",
       "0           6           148            72         35        0  33.6   \n",
       "1           1            85            66         29        0  26.6   \n",
       "2           8           183            64          0        0  23.3   \n",
       "3           1            89            66         23       94  28.1   \n",
       "4           0           137            40         35      168  43.1   \n",
       "..        ...           ...           ...        ...      ...   ...   \n",
       "763        10           101            76         48      180  32.9   \n",
       "764         2           122            70         27        0  36.8   \n",
       "765         5           121            72         23      112  26.2   \n",
       "766         1           126            60          0        0  30.1   \n",
       "767         1            93            70         31        0  30.4   \n",
       "\n",
       "     diab_pred  age    skin  diabetes  \n",
       "0        0.627   50  1.3780      True  \n",
       "1        0.351   31  1.1426     False  \n",
       "2        0.672   32  0.0000      True  \n",
       "3        0.167   21  0.9062     False  \n",
       "4        2.288   33  1.3790      True  \n",
       "..         ...  ...     ...       ...  \n",
       "763      0.171   63  1.8912     False  \n",
       "764      0.340   27  1.0638     False  \n",
       "765      0.245   30  0.9062     False  \n",
       "766      0.349   47  0.0000      True  \n",
       "767      0.315   23  1.2214     False  \n",
       "\n",
       "[768 rows x 10 columns]"
      ]
     },
     "execution_count": 3,
     "metadata": {},
     "output_type": "execute_result"
    }
   ],
   "source": [
    "df"
   ]
  },
  {
   "cell_type": "code",
   "execution_count": 4,
   "id": "911c1535-940e-4d1a-8fab-eeeaa8718d65",
   "metadata": {},
   "outputs": [
    {
     "data": {
      "text/plain": [
       "(768, 10)"
      ]
     },
     "execution_count": 4,
     "metadata": {},
     "output_type": "execute_result"
    }
   ],
   "source": [
    "# Verificando o Shape do Dataframe\n",
    "df.shape"
   ]
  },
  {
   "cell_type": "markdown",
   "id": "c47f343a-2f9e-4156-852d-a053601b421b",
   "metadata": {},
   "source": [
    "* Verificando se há Valores Nunos, ou Inexistentes"
   ]
  },
  {
   "cell_type": "code",
   "execution_count": 5,
   "id": "c403ec5c-5228-4dd1-8754-4d3343317744",
   "metadata": {},
   "outputs": [
    {
     "data": {
      "text/plain": [
       "num_preg        0\n",
       "glucose_conc    0\n",
       "diastolic_bp    0\n",
       "thickness       0\n",
       "insulin         0\n",
       "bmi             0\n",
       "diab_pred       0\n",
       "age             0\n",
       "skin            0\n",
       "diabetes        0\n",
       "dtype: int64"
      ]
     },
     "execution_count": 5,
     "metadata": {},
     "output_type": "execute_result"
    }
   ],
   "source": [
    "df.isnull().sum()"
   ]
  },
  {
   "cell_type": "code",
   "execution_count": 6,
   "id": "560331a0-c936-440d-ab4c-e9befc875c1b",
   "metadata": {},
   "outputs": [],
   "source": [
    "# Definindo a Função que retorna um mapa de calor responsável por indicar a correlação entre as vriáveis\n",
    "\n",
    "def df_corr(df, size = 20):\n",
    "    corr = df.corr()\n",
    "    sns.set(font_scale = 1.3)\n",
    "    plt.figure(figsize = (size,size*0.85))\n",
    "    sns.heatmap(corr)\n",
    "    plt.show()"
   ]
  },
  {
   "cell_type": "code",
   "execution_count": 7,
   "id": "33e49cfa-f496-4e88-9174-a797d87028aa",
   "metadata": {},
   "outputs": [
    {
     "data": {
      "image/png": "[encoded data removed]",
      "text/plain": [
       "<Figure size 1440x1224 with 2 Axes>"
      ]
     },
     "metadata": {},
     "output_type": "display_data"
    }
   ],
   "source": [
    "df_corr(df)"
   ]
  },
  {
   "cell_type": "markdown",
   "id": "b302741f-263c-4552-b4fc-39952feba90b",
   "metadata": {
    "tags": []
   },
   "source": [
    "### Pra que serve esse Gráfico?\n",
    "* Ele representa a correlação entre as variáveis;\n",
    "* Quanto mais clara for a cor, mais positiva é a correlação entre as duas variáveis que se encontram naquela coordenada;\n",
    "* Uma correlação positiva entre duas variáveis, significa que quando uma aumenta o valor, a outra acompanha;\n",
    "* Uma correlação negativa é ao contrário;\n",
    "* Uma correlação neutra é quando a variação de uma variável, não interfere na variação da outra variável."
   ]
  },
  {
   "cell_type": "markdown",
   "id": "b6326af7-d674-4afa-9dcf-742b4a4bd263",
   "metadata": {
    "tags": []
   },
   "source": [
    "## Variáveis que eu achei relevante:\n",
    "* thicness e skin - O aumento de uma influencia grandemente no aumento da outra, e vice-versa;\n",
    "\n",
    "*Partindo do princípio que as duas acima possuem uma alta correlação, eu quero observar outras variáveis que também tem correlação positiva com elas, pois isso ira ressaltar um aglomerado de variáveis que possuem correlação entre si.*\n",
    "\n",
    "* thickness - skin\n",
    "* skin - thickness\n",
    "* bmi - thicness\n",
    "* insulin - thicness\n",
    "* glucose_conc - insulin\n",
    "* diastolic_bp - bmi\n",
    "* age - glucose_con\n",
    "* num_preg - age"
   ]
  },
  {
   "cell_type": "code",
   "execution_count": 8,
   "id": "29110798-552b-4a22-8618-f1ffe1a04701",
   "metadata": {},
   "outputs": [],
   "source": [
    "# Mapeando o Dataset e Trocando valores True por 1, e valores False por 0.\n",
    "df['diabetes'] = df['diabetes'].map({True:1, False:0})"
   ]
  },
  {
   "cell_type": "code",
   "execution_count": 9,
   "id": "c68793f5-c72e-45a1-bebf-f1debec9c0f7",
   "metadata": {},
   "outputs": [
    {
     "data": {
      "text/html": [
       "<div>\n",
       "<style scoped>\n",
       "    .dataframe tbody tr th:only-of-type {\n",
       "        vertical-align: middle;\n",
       "    }\n",
       "\n",
       "    .dataframe tbody tr th {\n",
       "        vertical-align: top;\n",
       "    }\n",
       "\n",
       "    .dataframe thead th {\n",
       "        text-align: right;\n",
       "    }\n",
       "</style>\n",
       "<table border=\"1\" class=\"dataframe\">\n",
       "  <thead>\n",
       "    <tr style=\"text-align: right;\">\n",
       "      <th></th>\n",
       "      <th>num_preg</th>\n",
       "      <th>glucose_conc</th>\n",
       "      <th>diastolic_bp</th>\n",
       "      <th>thickness</th>\n",
       "      <th>insulin</th>\n",
       "      <th>bmi</th>\n",
       "      <th>diab_pred</th>\n",
       "      <th>age</th>\n",
       "      <th>skin</th>\n",
       "      <th>diabetes</th>\n",
       "    </tr>\n",
       "  </thead>\n",
       "  <tbody>\n",
       "    <tr>\n",
       "      <th>0</th>\n",
       "      <td>6</td>\n",
       "      <td>148</td>\n",
       "      <td>72</td>\n",
       "      <td>35</td>\n",
       "      <td>0</td>\n",
       "      <td>33.6</td>\n",
       "      <td>0.627</td>\n",
       "      <td>50</td>\n",
       "      <td>1.3780</td>\n",
       "      <td>1</td>\n",
       "    </tr>\n",
       "    <tr>\n",
       "      <th>1</th>\n",
       "      <td>1</td>\n",
       "      <td>85</td>\n",
       "      <td>66</td>\n",
       "      <td>29</td>\n",
       "      <td>0</td>\n",
       "      <td>26.6</td>\n",
       "      <td>0.351</td>\n",
       "      <td>31</td>\n",
       "      <td>1.1426</td>\n",
       "      <td>0</td>\n",
       "    </tr>\n",
       "    <tr>\n",
       "      <th>2</th>\n",
       "      <td>8</td>\n",
       "      <td>183</td>\n",
       "      <td>64</td>\n",
       "      <td>0</td>\n",
       "      <td>0</td>\n",
       "      <td>23.3</td>\n",
       "      <td>0.672</td>\n",
       "      <td>32</td>\n",
       "      <td>0.0000</td>\n",
       "      <td>1</td>\n",
       "    </tr>\n",
       "    <tr>\n",
       "      <th>3</th>\n",
       "      <td>1</td>\n",
       "      <td>89</td>\n",
       "      <td>66</td>\n",
       "      <td>23</td>\n",
       "      <td>94</td>\n",
       "      <td>28.1</td>\n",
       "      <td>0.167</td>\n",
       "      <td>21</td>\n",
       "      <td>0.9062</td>\n",
       "      <td>0</td>\n",
       "    </tr>\n",
       "    <tr>\n",
       "      <th>4</th>\n",
       "      <td>0</td>\n",
       "      <td>137</td>\n",
       "      <td>40</td>\n",
       "      <td>35</td>\n",
       "      <td>168</td>\n",
       "      <td>43.1</td>\n",
       "      <td>2.288</td>\n",
       "      <td>33</td>\n",
       "      <td>1.3790</td>\n",
       "      <td>1</td>\n",
       "    </tr>\n",
       "  </tbody>\n",
       "</table>\n",
       "</div>"
      ],
      "text/plain": [
       "   num_preg  glucose_conc  diastolic_bp  thickness  insulin   bmi  diab_pred  \\\n",
       "0         6           148            72         35        0  33.6      0.627   \n",
       "1         1            85            66         29        0  26.6      0.351   \n",
       "2         8           183            64          0        0  23.3      0.672   \n",
       "3         1            89            66         23       94  28.1      0.167   \n",
       "4         0           137            40         35      168  43.1      2.288   \n",
       "\n",
       "   age    skin  diabetes  \n",
       "0   50  1.3780         1  \n",
       "1   31  1.1426         0  \n",
       "2   32  0.0000         1  \n",
       "3   21  0.9062         0  \n",
       "4   33  1.3790         1  "
      ]
     },
     "execution_count": 9,
     "metadata": {},
     "output_type": "execute_result"
    }
   ],
   "source": [
    "df.head(5)"
   ]
  },
  {
   "cell_type": "code",
   "execution_count": 10,
   "id": "365fc824-158c-44be-b49e-aa33a4b99097",
   "metadata": {},
   "outputs": [
    {
     "name": "stdout",
     "output_type": "stream",
     "text": [
      "Casos Positivos: 268\n",
      "Casos Negativos: 500\n"
     ]
    }
   ],
   "source": [
    "# verificando como os dados estão distribuídos.\n",
    "diabetes_positiva = df.loc[df['diabetes'] == True]\n",
    "diabetes_negativa = df.loc[df['diabetes'] == False]\n",
    "print(f'''Casos Positivos: {len(diabetes_positiva)}\\nCasos Negativos: {len(diabetes_negativa)}''')"
   ]
  },
  {
   "cell_type": "markdown",
   "id": "be78918d-7c06-44d4-8cc7-d48143e3f739",
   "metadata": {},
   "source": [
    "* A informação acima é muito relevante, pois sabemos que existem poucos dados para se trabalhar\n",
    "* Temos muitos exemplos de casos Negativos de Diabetes;\n",
    "* Temos poucos exemplos (quase metade) de casos Positivos de Diabetes."
   ]
  },
  {
   "cell_type": "markdown",
   "id": "ed3bb34d-63b3-47f2-8748-dcd4ae4cc81f",
   "metadata": {},
   "source": [
    "**Como este projeto trata-se apenas de um estudo, continuarei mesmo assim.**\n",
    "* Lembrando que numa situação real, o correto seria correr atrás de mais dados, pois este é um assunto muito delicado para ser tratado de qualquer maneira."
   ]
  },
  {
   "cell_type": "code",
   "execution_count": 11,
   "id": "99f5c050-28d7-4c6f-bcda-b18a18c3972a",
   "metadata": {},
   "outputs": [],
   "source": [
    "# Selecionando as Variáveis preditorias.\n",
    "# Eu já as separei, conforme pode ser observado a algumas linhas de código acima.\n",
    "atributos = ['thickness', 'skin', 'bmi', 'insulin', 'glucose_conc', 'diastolic_bp', 'age', 'num_preg']"
   ]
  },
  {
   "cell_type": "code",
   "execution_count": 12,
   "id": "581a4e45-0233-4c07-82a1-05296f93b928",
   "metadata": {},
   "outputs": [],
   "source": [
    "# Variável a ser prevista, neste caso, a diagnosticação de Diabetes.\n",
    "atributo_previsto = ['diabetes']"
   ]
  },
  {
   "cell_type": "code",
   "execution_count": 13,
   "id": "da38779b-577c-4f76-92a5-08dcbbc6dc9d",
   "metadata": {},
   "outputs": [],
   "source": [
    "# Definindo x e y - x, representa as Variáveis Preditoras - y representa a Variável as ser Prevista.\n",
    "x = df[atributos].values\n",
    "y = df[atributo_previsto].values"
   ]
  },
  {
   "cell_type": "code",
   "execution_count": 14,
   "id": "767d25be-c58d-4a47-8f24-0ac63c9b90c1",
   "metadata": {},
   "outputs": [
    {
     "data": {
      "text/plain": [
       "array([[35.    ,  1.378 , 33.6   , ..., 72.    , 50.    ,  6.    ],\n",
       "       [29.    ,  1.1426, 26.6   , ..., 66.    , 31.    ,  1.    ],\n",
       "       [ 0.    ,  0.    , 23.3   , ..., 64.    , 32.    ,  8.    ],\n",
       "       ...,\n",
       "       [23.    ,  0.9062, 26.2   , ..., 72.    , 30.    ,  5.    ],\n",
       "       [ 0.    ,  0.    , 30.1   , ..., 60.    , 47.    ,  1.    ],\n",
       "       [31.    ,  1.2214, 30.4   , ..., 70.    , 23.    ,  1.    ]])"
      ]
     },
     "execution_count": 14,
     "metadata": {},
     "output_type": "execute_result"
    }
   ],
   "source": [
    "x"
   ]
  },
  {
   "cell_type": "code",
   "execution_count": 15,
   "id": "c06fc10d-5702-4968-810b-d1316c955de5",
   "metadata": {},
   "outputs": [
    {
     "data": {
      "text/plain": [
       "array([[1],\n",
       "       [0],\n",
       "       [1],\n",
       "       [0],\n",
       "       [1],\n",
       "       [0],\n",
       "       [1],\n",
       "       [0],\n",
       "       [1],\n",
       "       [1]], dtype=int64)"
      ]
     },
     "execution_count": 15,
     "metadata": {},
     "output_type": "execute_result"
    }
   ],
   "source": [
    "y[:10]"
   ]
  },
  {
   "cell_type": "markdown",
   "id": "1a3570f2-91ed-4f84-b8e2-e84994283076",
   "metadata": {},
   "source": [
    "## Dividindo os Dados entre Dados para Treino e Dados para Teste\n",
    "* Dados para Treino é 70%, quanto mais dados para treinar, melhor.\n",
    "* Dados para Teste é 30%, é necessário que uma parcela dos dados seja usada para teste. Devemos fazer Testes para comprovar a eficiência do Modelo criado."
   ]
  },
  {
   "cell_type": "code",
   "execution_count": 16,
   "id": "22bcfe14-dc7e-4050-9055-488e5723d373",
   "metadata": {},
   "outputs": [],
   "source": [
    "import sklearn as sk\n",
    "from sklearn.model_selection import train_test_split as tts"
   ]
  },
  {
   "cell_type": "code",
   "execution_count": 17,
   "id": "0abfcbaf-ebb8-477a-8524-2796278c8cd7",
   "metadata": {},
   "outputs": [
    {
     "data": {
      "text/plain": [
       "'1.1.2'"
      ]
     },
     "execution_count": 17,
     "metadata": {},
     "output_type": "execute_result"
    }
   ],
   "source": [
    "sk.__version__"
   ]
  },
  {
   "cell_type": "code",
   "execution_count": 18,
   "id": "8686dffb-4ac0-42e7-ab93-efa5105f3c9e",
   "metadata": {},
   "outputs": [],
   "source": [
    "test_size = 0.3"
   ]
  },
  {
   "cell_type": "code",
   "execution_count": 19,
   "id": "0831ad01-5575-421c-8363-20e908ea0a6c",
   "metadata": {},
   "outputs": [],
   "source": [
    "# criando os dados de treino e de teste\n",
    "x_treino, x_teste, y_treino, y_teste = tts(x, y, test_size = test_size, random_state = 42)"
   ]
  },
  {
   "cell_type": "markdown",
   "id": "6fbc536c-6f55-45c8-9480-98dfda6b8a2c",
   "metadata": {},
   "source": [
    "**A Porcentagem está aproximadamente 70/30, conforme o esperado.**"
   ]
  },
  {
   "cell_type": "code",
   "execution_count": 20,
   "id": "fa8f4fe2-49d2-491b-8a35-5e30f32735c7",
   "metadata": {},
   "outputs": [
    {
     "name": "stdout",
     "output_type": "stream",
     "text": [
      "x_teste = 30.08%\n",
      "x_treino = 69.92%\n"
     ]
    }
   ],
   "source": [
    "print(f'x_teste = {round(len(x_teste)/len(df) * 100, 2)}%')\n",
    "print(f'x_treino = {round(len(x_treino)/len(df) * 100, 2)}%')"
   ]
  },
  {
   "cell_type": "markdown",
   "id": "b06c3bbc-d34b-436b-936d-94d80e7b65ee",
   "metadata": {},
   "source": [
    "**Embora o Dataset tenha sido dividido, a proporção de Diabetes Positiva e Diabetes Negativa continuam as mesmas**"
   ]
  },
  {
   "cell_type": "code",
   "execution_count": 21,
   "id": "46928511-c3b3-4b3c-8cc0-2e7ed779d453",
   "metadata": {},
   "outputs": [
    {
     "name": "stdout",
     "output_type": "stream",
     "text": [
      "y_treino Positiva: 188 - 35.01%\n",
      "y_treino Negativa: 349 - 64.99%\n",
      "\n",
      "y_teste Positiva: 80 - 34.63%\n",
      "y_teste Negativa: 151 - 65.37%\n"
     ]
    }
   ],
   "source": [
    "print(f'y_treino Positiva: {len(y_treino[y_treino[:] == 1])} - {round(len(y_treino[y_treino[:] == 1])/len(y_treino) *100,2)}%')\n",
    "print(f'y_treino Negativa: {len(y_treino[y_treino[:] == 0])} - {round(len(y_treino[y_treino[:] == 0])/len(y_treino) *100,2)}%')\n",
    "print()\n",
    "print(f'y_teste Positiva: {len(y_teste[y_teste[:] == 1])} - {round(len(y_teste[y_teste[:] == 1])/len(y_teste) *100,2)}%')\n",
    "print(f'y_teste Negativa: {len(y_teste[y_teste[:] == 0])} - {round(len(y_teste[y_teste[:] == 0])/len(y_teste) *100,2)}%')"
   ]
  },
  {
   "cell_type": "markdown",
   "id": "b8ad018c-3a75-4a1d-8ca2-5e2c591ce409",
   "metadata": {
    "tags": []
   },
   "source": [
    "## Valores Missing Ocultos\n",
    "* Embora eu já tenha atestado que não existem valores Nulos, isso não significa que o meu Dataset está livre de Valores Missing (Valores Faltantes);\n",
    "* O Dataset pode conter valores que comprometem a análise correta da situação;\n",
    "* Caso haja valores igual a zero em alguma coluna, eu vou me perguntar se aquele valor faz sentido;\n",
    "    * Se fizer sentido, está ótimo. Mas se não fizer, eu tenho que fazer algo a respeito.\n",
    "    * A final um valor incorreto irá comprometer a análiza, e consequentemente, o resultado."
   ]
  },
  {
   "cell_type": "code",
   "execution_count": 22,
   "id": "2bc11683-5f49-4fcb-89be-8a8ea12ea601",
   "metadata": {},
   "outputs": [
    {
     "name": "stdout",
     "output_type": "stream",
     "text": [
      "\n",
      "\n",
      "Total de Zeros que Cada coluna possui:\n",
      "\n",
      "num_preg: 111\n",
      "glucose_conc: 5\n",
      "diastolic_bp: 35\n",
      "thickness: 227\n",
      "insulin: 374\n",
      "bmi: 11\n",
      "diab_pred: 0\n",
      "age: 0\n",
      "skin: 227\n",
      "diabetes: 500\n",
      "----------------------------\n",
      "Total de Dados: 7680\n",
      "Total de Zeros: 1490\n",
      "Porcentagem de Zeros: 19.4%\n",
      "\n"
     ]
    }
   ],
   "source": [
    "total_dados = len(df) * len(df.columns)\n",
    "zeros = 0\n",
    "print('\\n\\nTotal de Zeros que Cada coluna possui:\\n')\n",
    "for i in df.columns:\n",
    "    print(f'{i}: {len(df[df[i] == 0])}')\n",
    "    zeros += len(df[df[i] == 0])\n",
    "\n",
    "print('----------------------------')\n",
    "print(f'Total de Dados: {total_dados}')\n",
    "print(f'Total de Zeros: {zeros}')\n",
    "print(f'Porcentagem de Zeros: {round((zeros/total_dados)*100,2)}%\\n')"
   ]
  },
  {
   "cell_type": "markdown",
   "id": "7afd06c6-f5ad-4f61-b54e-904516c67e21",
   "metadata": {},
   "source": [
    "* Como informado acima, aproximadamente 19.4% de todos os valores disponíveis são formados por Zero;\n",
    "* Isso obviamente é preocumante, uma vez que, por exemplo, não é possível que 374 das pessoas que fizeram os exames tinham absolutamente 0 de Insulina. Esta informação claramente está errada, então irei corrigi-la."
   ]
  },
  {
   "cell_type": "markdown",
   "id": "bbbb47f4-ce18-42e2-8399-c159e76843e7",
   "metadata": {},
   "source": [
    "## Tratando Valores Missing\n",
    "* Irei substituir os valores iguais a zero pela média dos valores de cada variável."
   ]
  },
  {
   "cell_type": "code",
   "execution_count": 23,
   "id": "5686f372-3dbf-4cef-b9e7-e669de8e6e6b",
   "metadata": {},
   "outputs": [],
   "source": [
    "from sklearn.impute import SimpleImputer"
   ]
  },
  {
   "cell_type": "code",
   "execution_count": 24,
   "id": "ea0e568a-eedc-4bf1-bffc-592112aebcc0",
   "metadata": {},
   "outputs": [],
   "source": [
    "imp = SimpleImputer(missing_values=0., strategy = 'mean')"
   ]
  },
  {
   "cell_type": "code",
   "execution_count": 25,
   "id": "ce6a51eb-6af7-4c86-a756-9223bcae6d56",
   "metadata": {},
   "outputs": [],
   "source": [
    "# Substituindo os valores iguais a zero, pela média dos Dados.\n",
    "x_treino_t = imp.fit_transform(x_treino)\n",
    "x_teste_t = imp.fit_transform(x_teste)"
   ]
  },
  {
   "cell_type": "markdown",
   "id": "dc23681b-bfc3-4139-bf8d-ad74453dfa30",
   "metadata": {},
   "source": [
    "## Construindo e Treinando o Modelo"
   ]
  },
  {
   "cell_type": "code",
   "execution_count": 26,
   "id": "1fa29f1a-7c59-4b3b-a3b8-3466522d419e",
   "metadata": {},
   "outputs": [],
   "source": [
    "# Importando um classificador Naive Bayes\n",
    "from sklearn.naive_bayes import GaussianNB"
   ]
  },
  {
   "cell_type": "code",
   "execution_count": 27,
   "id": "103c017e-ec43-4dba-af73-79debf194b8b",
   "metadata": {},
   "outputs": [],
   "source": [
    "# Criando o modelo Preditivo\n",
    "modelo_v1 = GaussianNB()"
   ]
  },
  {
   "cell_type": "code",
   "execution_count": 28,
   "id": "4c91f633-0b3c-42c2-94b9-e332bc537aa1",
   "metadata": {},
   "outputs": [
    {
     "data": {
      "text/html": [
       "<style>#sk-container-id-1 {color: black;background-color: white;}#sk-container-id-1 pre{padding: 0;}#sk-container-id-1 div.sk-toggleable {background-color: white;}#sk-container-id-1 label.sk-toggleable__label {cursor: pointer;display: block;width: 100%;margin-bottom: 0;padding: 0.3em;box-sizing: border-box;text-align: center;}#sk-container-id-1 label.sk-toggleable__label-arrow:before {content: \"▸\";float: left;margin-right: 0.25em;color: #696969;}#sk-container-id-1 label.sk-toggleable__label-arrow:hover:before {color: black;}#sk-container-id-1 div.sk-estimator:hover label.sk-toggleable__label-arrow:before {color: black;}#sk-container-id-1 div.sk-toggleable__content {max-height: 0;max-width: 0;overflow: hidden;text-align: left;background-color: #f0f8ff;}#sk-container-id-1 div.sk-toggleable__content pre {margin: 0.2em;color: black;border-radius: 0.25em;background-color: #f0f8ff;}#sk-container-id-1 input.sk-toggleable__control:checked~div.sk-toggleable__content {max-height: 200px;max-width: 100%;overflow: auto;}#sk-container-id-1 input.sk-toggleable__control:checked~label.sk-toggleable__label-arrow:before {content: \"▾\";}#sk-container-id-1 div.sk-estimator input.sk-toggleable__control:checked~label.sk-toggleable__label {background-color: #d4ebff;}#sk-container-id-1 div.sk-label input.sk-toggleable__control:checked~label.sk-toggleable__label {background-color: #d4ebff;}#sk-container-id-1 input.sk-hidden--visually {border: 0;clip: rect(1px 1px 1px 1px);clip: rect(1px, 1px, 1px, 1px);height: 1px;margin: -1px;overflow: hidden;padding: 0;position: absolute;width: 1px;}#sk-container-id-1 div.sk-estimator {font-family: monospace;background-color: #f0f8ff;border: 1px dotted black;border-radius: 0.25em;box-sizing: border-box;margin-bottom: 0.5em;}#sk-container-id-1 div.sk-estimator:hover {background-color: #d4ebff;}#sk-container-id-1 div.sk-parallel-item::after {content: \"\";width: 100%;border-bottom: 1px solid gray;flex-grow: 1;}#sk-container-id-1 div.sk-label:hover label.sk-toggleable__label {background-color: #d4ebff;}#sk-container-id-1 div.sk-serial::before {content: \"\";position: absolute;border-left: 1px solid gray;box-sizing: border-box;top: 0;bottom: 0;left: 50%;z-index: 0;}#sk-container-id-1 div.sk-serial {display: flex;flex-direction: column;align-items: center;background-color: white;padding-right: 0.2em;padding-left: 0.2em;position: relative;}#sk-container-id-1 div.sk-item {position: relative;z-index: 1;}#sk-container-id-1 div.sk-parallel {display: flex;align-items: stretch;justify-content: center;background-color: white;position: relative;}#sk-container-id-1 div.sk-item::before, #sk-container-id-1 div.sk-parallel-item::before {content: \"\";position: absolute;border-left: 1px solid gray;box-sizing: border-box;top: 0;bottom: 0;left: 50%;z-index: -1;}#sk-container-id-1 div.sk-parallel-item {display: flex;flex-direction: column;z-index: 1;position: relative;background-color: white;}#sk-container-id-1 div.sk-parallel-item:first-child::after {align-self: flex-end;width: 50%;}#sk-container-id-1 div.sk-parallel-item:last-child::after {align-self: flex-start;width: 50%;}#sk-container-id-1 div.sk-parallel-item:only-child::after {width: 0;}#sk-container-id-1 div.sk-dashed-wrapped {border: 1px dashed gray;margin: 0 0.4em 0.5em 0.4em;box-sizing: border-box;padding-bottom: 0.4em;background-color: white;}#sk-container-id-1 div.sk-label label {font-family: monospace;font-weight: bold;display: inline-block;line-height: 1.2em;}#sk-container-id-1 div.sk-label-container {text-align: center;}#sk-container-id-1 div.sk-container {/* jupyter's `normalize.less` sets `[hidden] { display: none; }` but bootstrap.min.css set `[hidden] { display: none !important; }` so we also need the `!important` here to be able to override the default hidden behavior on the sphinx rendered scikit-learn.org. See: https://github.com/scikit-learn/scikit-learn/issues/21755 */display: inline-block !important;position: relative;}#sk-container-id-1 div.sk-text-repr-fallback {display: none;}</style><div id=\"sk-container-id-1\" class=\"sk-top-container\"><div class=\"sk-text-repr-fallback\"><pre>GaussianNB()</pre><b>In a Jupyter environment, please rerun this cell to show the HTML representation or trust the notebook. <br />On GitHub, the HTML representation is unable to render, please try loading this page with nbviewer.org.</b></div><div class=\"sk-container\" hidden><div class=\"sk-item\"><div class=\"sk-estimator sk-toggleable\"><input class=\"sk-toggleable__control sk-hidden--visually\" id=\"sk-estimator-id-1\" type=\"checkbox\" checked><label for=\"sk-estimator-id-1\" class=\"sk-toggleable__label sk-toggleable__label-arrow\">GaussianNB</label><div class=\"sk-toggleable__content\"><pre>GaussianNB()</pre></div></div></div></div></div>"
      ],
      "text/plain": [
       "GaussianNB()"
      ]
     },
     "execution_count": 28,
     "metadata": {},
     "output_type": "execute_result"
    }
   ],
   "source": [
    "# trainando o modelo\n",
    "modelo_v1.fit(x_treino_t, y_treino.ravel())"
   ]
  },
  {
   "cell_type": "markdown",
   "id": "87bde155-917e-4111-84ee-4f52bb3b1000",
   "metadata": {},
   "source": [
    "## Verifivcando a Exatidão do Modelo"
   ]
  },
  {
   "cell_type": "code",
   "execution_count": 29,
   "id": "782eaee7-f30a-4f6e-bff3-982ce807d5ad",
   "metadata": {},
   "outputs": [],
   "source": [
    "from sklearn import metrics"
   ]
  },
  {
   "cell_type": "markdown",
   "id": "73c5c8de-b220-43b0-9c7e-4a3c672d1900",
   "metadata": {},
   "source": [
    "* Testando a Exatidão com os Dados de Treino"
   ]
  },
  {
   "cell_type": "code",
   "execution_count": 30,
   "id": "ad3c6a36-6258-4d38-b21e-db1897d28bf1",
   "metadata": {},
   "outputs": [],
   "source": [
    "v1_predict_treino = modelo_v1.predict(x_treino_t)"
   ]
  },
  {
   "cell_type": "code",
   "execution_count": 31,
   "id": "2f6a7567-e357-4cde-af0f-eac97e6560f5",
   "metadata": {},
   "outputs": [
    {
     "name": "stdout",
     "output_type": "stream",
     "text": [
      "Exatidão (Accuracy): 75.98%\n"
     ]
    }
   ],
   "source": [
    "print(f'Exatidão (Accuracy): {round(metrics.accuracy_score(y_treino, v1_predict_treino),4)*100}%')"
   ]
  },
  {
   "cell_type": "markdown",
   "id": "f635e26e-7e71-4938-8e83-46c772593151",
   "metadata": {},
   "source": [
    "* Testando a Exatidão com os Dados de Teste"
   ]
  },
  {
   "cell_type": "code",
   "execution_count": 32,
   "id": "e2582896-0d1d-46e3-8db6-f42b13b4a044",
   "metadata": {},
   "outputs": [],
   "source": [
    "v1_predict_teste = modelo_v1.predict(x_teste_t)"
   ]
  },
  {
   "cell_type": "code",
   "execution_count": 33,
   "id": "d705f151-964b-4bf7-9a50-86bc0e9d4618",
   "metadata": {},
   "outputs": [
    {
     "name": "stdout",
     "output_type": "stream",
     "text": [
      "Exatidão (Accuracy): 71.0%\n"
     ]
    }
   ],
   "source": [
    "print(f'Exatidão (Accuracy): {round(metrics.accuracy_score(y_teste, v1_predict_teste),4)*100}%')"
   ]
  },
  {
   "cell_type": "markdown",
   "id": "713854d8-4dc7-4766-8c03-3739ba6df70f",
   "metadata": {
    "tags": []
   },
   "source": [
    "## Métricas"
   ]
  },
  {
   "cell_type": "code",
   "execution_count": 37,
   "id": "21aaf36c-e491-45a5-8f1d-5874d03bde7a",
   "metadata": {},
   "outputs": [
    {
     "data": {
      "text/plain": [
       "array([[ 49,  31],\n",
       "       [ 36, 115]], dtype=int64)"
      ]
     },
     "execution_count": 37,
     "metadata": {},
     "output_type": "execute_result"
    }
   ],
   "source": [
    "# Criando uma Confusion Matrix\n",
    "metrics.confusion_matrix(y_teste, v1_predict_teste, labels = [1,0])"
   ]
  },
  {
   "cell_type": "code",
   "execution_count": 38,
   "id": "f14ff244-326e-42d3-b770-208e79a97f35",
   "metadata": {
    "tags": []
   },
   "outputs": [
    {
     "data": {
      "text/plain": [
       "'              precision    recall  f1-score   support\\n\\n           1       0.58      0.61      0.59        80\\n           0       0.79      0.76      0.77       151\\n\\n    accuracy                           0.71       231\\n   macro avg       0.68      0.69      0.68       231\\nweighted avg       0.71      0.71      0.71       231\\n'"
      ]
     },
     "execution_count": 38,
     "metadata": {},
     "output_type": "execute_result"
    }
   ],
   "source": [
    "# criando uma Classification Report\n",
    "metrics.classification_report(y_teste, v1_predict_teste, labels = [1,0])"
   ]
  },
  {
   "cell_type": "markdown",
   "id": "faf56ff0-7378-4ea1-9e99-851043def1c2",
   "metadata": {},
   "source": [
    "## Mudando o Algorítimo para RandomForest\n",
    "* Mudando o Algorítimo podemos verificar se o nível de Acurácia irá aumentar, ou não;\n",
    "* Fazemos isso na tentativa de otimizar nosso modelo."
   ]
  },
  {
   "cell_type": "code",
   "execution_count": 39,
   "id": "12b8ce24-f52a-4fee-81ec-040dcfced8dc",
   "metadata": {},
   "outputs": [],
   "source": [
    "from sklearn.ensemble import RandomForestClassifier"
   ]
  },
  {
   "cell_type": "code",
   "execution_count": 40,
   "id": "6c47ef35-d802-4f5d-ab42-2c99fc098167",
   "metadata": {},
   "outputs": [],
   "source": [
    "modelo_v2 = RandomForestClassifier(random_state = 42)"
   ]
  },
  {
   "cell_type": "code",
   "execution_count": 41,
   "id": "eb3c9366-351d-4c1e-a50a-55ddc5ccf86a",
   "metadata": {},
   "outputs": [
    {
     "data": {
      "text/html": [
       "<style>#sk-container-id-2 {color: black;background-color: white;}#sk-container-id-2 pre{padding: 0;}#sk-container-id-2 div.sk-toggleable {background-color: white;}#sk-container-id-2 label.sk-toggleable__label {cursor: pointer;display: block;width: 100%;margin-bottom: 0;padding: 0.3em;box-sizing: border-box;text-align: center;}#sk-container-id-2 label.sk-toggleable__label-arrow:before {content: \"▸\";float: left;margin-right: 0.25em;color: #696969;}#sk-container-id-2 label.sk-toggleable__label-arrow:hover:before {color: black;}#sk-container-id-2 div.sk-estimator:hover label.sk-toggleable__label-arrow:before {color: black;}#sk-container-id-2 div.sk-toggleable__content {max-height: 0;max-width: 0;overflow: hidden;text-align: left;background-color: #f0f8ff;}#sk-container-id-2 div.sk-toggleable__content pre {margin: 0.2em;color: black;border-radius: 0.25em;background-color: #f0f8ff;}#sk-container-id-2 input.sk-toggleable__control:checked~div.sk-toggleable__content {max-height: 200px;max-width: 100%;overflow: auto;}#sk-container-id-2 input.sk-toggleable__control:checked~label.sk-toggleable__label-arrow:before {content: \"▾\";}#sk-container-id-2 div.sk-estimator input.sk-toggleable__control:checked~label.sk-toggleable__label {background-color: #d4ebff;}#sk-container-id-2 div.sk-label input.sk-toggleable__control:checked~label.sk-toggleable__label {background-color: #d4ebff;}#sk-container-id-2 input.sk-hidden--visually {border: 0;clip: rect(1px 1px 1px 1px);clip: rect(1px, 1px, 1px, 1px);height: 1px;margin: -1px;overflow: hidden;padding: 0;position: absolute;width: 1px;}#sk-container-id-2 div.sk-estimator {font-family: monospace;background-color: #f0f8ff;border: 1px dotted black;border-radius: 0.25em;box-sizing: border-box;margin-bottom: 0.5em;}#sk-container-id-2 div.sk-estimator:hover {background-color: #d4ebff;}#sk-container-id-2 div.sk-parallel-item::after {content: \"\";width: 100%;border-bottom: 1px solid gray;flex-grow: 1;}#sk-container-id-2 div.sk-label:hover label.sk-toggleable__label {background-color: #d4ebff;}#sk-container-id-2 div.sk-serial::before {content: \"\";position: absolute;border-left: 1px solid gray;box-sizing: border-box;top: 0;bottom: 0;left: 50%;z-index: 0;}#sk-container-id-2 div.sk-serial {display: flex;flex-direction: column;align-items: center;background-color: white;padding-right: 0.2em;padding-left: 0.2em;position: relative;}#sk-container-id-2 div.sk-item {position: relative;z-index: 1;}#sk-container-id-2 div.sk-parallel {display: flex;align-items: stretch;justify-content: center;background-color: white;position: relative;}#sk-container-id-2 div.sk-item::before, #sk-container-id-2 div.sk-parallel-item::before {content: \"\";position: absolute;border-left: 1px solid gray;box-sizing: border-box;top: 0;bottom: 0;left: 50%;z-index: -1;}#sk-container-id-2 div.sk-parallel-item {display: flex;flex-direction: column;z-index: 1;position: relative;background-color: white;}#sk-container-id-2 div.sk-parallel-item:first-child::after {align-self: flex-end;width: 50%;}#sk-container-id-2 div.sk-parallel-item:last-child::after {align-self: flex-start;width: 50%;}#sk-container-id-2 div.sk-parallel-item:only-child::after {width: 0;}#sk-container-id-2 div.sk-dashed-wrapped {border: 1px dashed gray;margin: 0 0.4em 0.5em 0.4em;box-sizing: border-box;padding-bottom: 0.4em;background-color: white;}#sk-container-id-2 div.sk-label label {font-family: monospace;font-weight: bold;display: inline-block;line-height: 1.2em;}#sk-container-id-2 div.sk-label-container {text-align: center;}#sk-container-id-2 div.sk-container {/* jupyter's `normalize.less` sets `[hidden] { display: none; }` but bootstrap.min.css set `[hidden] { display: none !important; }` so we also need the `!important` here to be able to override the default hidden behavior on the sphinx rendered scikit-learn.org. See: https://github.com/scikit-learn/scikit-learn/issues/21755 */display: inline-block !important;position: relative;}#sk-container-id-2 div.sk-text-repr-fallback {display: none;}</style><div id=\"sk-container-id-2\" class=\"sk-top-container\"><div class=\"sk-text-repr-fallback\"><pre>RandomForestClassifier(random_state=42)</pre><b>In a Jupyter environment, please rerun this cell to show the HTML representation or trust the notebook. <br />On GitHub, the HTML representation is unable to render, please try loading this page with nbviewer.org.</b></div><div class=\"sk-container\" hidden><div class=\"sk-item\"><div class=\"sk-estimator sk-toggleable\"><input class=\"sk-toggleable__control sk-hidden--visually\" id=\"sk-estimator-id-2\" type=\"checkbox\" checked><label for=\"sk-estimator-id-2\" class=\"sk-toggleable__label sk-toggleable__label-arrow\">RandomForestClassifier</label><div class=\"sk-toggleable__content\"><pre>RandomForestClassifier(random_state=42)</pre></div></div></div></div></div>"
      ],
      "text/plain": [
       "RandomForestClassifier(random_state=42)"
      ]
     },
     "execution_count": 41,
     "metadata": {},
     "output_type": "execute_result"
    }
   ],
   "source": [
    "modelo_v2.fit(x_treino_t, y_treino.ravel())"
   ]
  },
  {
   "cell_type": "markdown",
   "id": "ddaf85cf-05a0-4eda-848a-0ed7a018a5b2",
   "metadata": {},
   "source": [
    "## Verificando a Exatidão do Modelo"
   ]
  },
  {
   "cell_type": "markdown",
   "id": "32be65fa-43cd-4999-b689-24fd4c89796b",
   "metadata": {},
   "source": [
    "* Testando a Exatidão com os dados de Treino"
   ]
  },
  {
   "cell_type": "code",
   "execution_count": 42,
   "id": "8604e463-eeae-40e0-b240-85197d80a2e8",
   "metadata": {},
   "outputs": [],
   "source": [
    "v2_predict_treino = modelo_v2.predict(x_treino_t)"
   ]
  },
  {
   "cell_type": "code",
   "execution_count": 43,
   "id": "dda4a327-b6ba-4f82-8f24-27db71935293",
   "metadata": {},
   "outputs": [
    {
     "name": "stdout",
     "output_type": "stream",
     "text": [
      "Exatidão (Accuracy): 100.0%\n"
     ]
    }
   ],
   "source": [
    "print(f'Exatidão (Accuracy): {metrics.accuracy_score(y_treino, v2_predict_treino)*100}%')"
   ]
  },
  {
   "cell_type": "markdown",
   "id": "50feb81f-33db-404d-8a2c-7e5992da9c58",
   "metadata": {},
   "source": [
    "* Testando a Exatidão com os dados de Teste"
   ]
  },
  {
   "cell_type": "code",
   "execution_count": 44,
   "id": "b0d6cabc-f2e6-48a8-9cfe-eb94ec6a463b",
   "metadata": {},
   "outputs": [],
   "source": [
    "v2_predict_teste = modelo_v2.predict(x_teste_t)"
   ]
  },
  {
   "cell_type": "code",
   "execution_count": 45,
   "id": "e1c0d9f3-8d77-4802-bee7-1bc4d0656812",
   "metadata": {},
   "outputs": [
    {
     "name": "stdout",
     "output_type": "stream",
     "text": [
      "Exatidão (Accuracy): 73.59%\n"
     ]
    }
   ],
   "source": [
    "print(f'Exatidão (Accuracy): {round(metrics.accuracy_score(y_teste, v2_predict_teste)*100,2)}%')"
   ]
  },
  {
   "cell_type": "markdown",
   "id": "9aa34065-b78b-4de7-97da-565f002fb2dc",
   "metadata": {
    "tags": []
   },
   "source": [
    "## Métricas"
   ]
  },
  {
   "cell_type": "code",
   "execution_count": 46,
   "id": "6fc8b086-3e19-418b-b700-4b55128aa93a",
   "metadata": {},
   "outputs": [
    {
     "data": {
      "text/plain": [
       "array([[ 51,  29],\n",
       "       [ 32, 119]], dtype=int64)"
      ]
     },
     "execution_count": 46,
     "metadata": {},
     "output_type": "execute_result"
    }
   ],
   "source": [
    "# Criando uma Confusion Matrix\n",
    "metrics.confusion_matrix(y_teste, v2_predict_teste, labels = [1,0])"
   ]
  },
  {
   "cell_type": "code",
   "execution_count": 47,
   "id": "7d24dbfc-c0b3-4024-a62f-1c34aa83d6b3",
   "metadata": {
    "tags": []
   },
   "outputs": [
    {
     "data": {
      "text/plain": [
       "'              precision    recall  f1-score   support\\n\\n           1       0.61      0.64      0.63        80\\n           0       0.80      0.79      0.80       151\\n\\n    accuracy                           0.74       231\\n   macro avg       0.71      0.71      0.71       231\\nweighted avg       0.74      0.74      0.74       231\\n'"
      ]
     },
     "execution_count": 47,
     "metadata": {},
     "output_type": "execute_result"
    }
   ],
   "source": [
    "# criando uma Classification Report\n",
    "metrics.classification_report(y_teste, v2_predict_teste, labels = [1,0])"
   ]
  },
  {
   "cell_type": "markdown",
   "id": "ffefe2cb-0c52-46de-9dc5-800a95fe571d",
   "metadata": {},
   "source": [
    "## Algorítimo LogisticRegression"
   ]
  },
  {
   "cell_type": "code",
   "execution_count": 48,
   "id": "5afc08e7-67b3-44d5-a4e4-4f1c5576f36e",
   "metadata": {},
   "outputs": [],
   "source": [
    "from sklearn.linear_model import LogisticRegression"
   ]
  },
  {
   "cell_type": "code",
   "execution_count": 49,
   "id": "a8ec4273-1e38-4663-8f28-1b9c857cabe9",
   "metadata": {},
   "outputs": [
    {
     "data": {
      "text/html": [
       "<style>#sk-container-id-3 {color: black;background-color: white;}#sk-container-id-3 pre{padding: 0;}#sk-container-id-3 div.sk-toggleable {background-color: white;}#sk-container-id-3 label.sk-toggleable__label {cursor: pointer;display: block;width: 100%;margin-bottom: 0;padding: 0.3em;box-sizing: border-box;text-align: center;}#sk-container-id-3 label.sk-toggleable__label-arrow:before {content: \"▸\";float: left;margin-right: 0.25em;color: #696969;}#sk-container-id-3 label.sk-toggleable__label-arrow:hover:before {color: black;}#sk-container-id-3 div.sk-estimator:hover label.sk-toggleable__label-arrow:before {color: black;}#sk-container-id-3 div.sk-toggleable__content {max-height: 0;max-width: 0;overflow: hidden;text-align: left;background-color: #f0f8ff;}#sk-container-id-3 div.sk-toggleable__content pre {margin: 0.2em;color: black;border-radius: 0.25em;background-color: #f0f8ff;}#sk-container-id-3 input.sk-toggleable__control:checked~div.sk-toggleable__content {max-height: 200px;max-width: 100%;overflow: auto;}#sk-container-id-3 input.sk-toggleable__control:checked~label.sk-toggleable__label-arrow:before {content: \"▾\";}#sk-container-id-3 div.sk-estimator input.sk-toggleable__control:checked~label.sk-toggleable__label {background-color: #d4ebff;}#sk-container-id-3 div.sk-label input.sk-toggleable__control:checked~label.sk-toggleable__label {background-color: #d4ebff;}#sk-container-id-3 input.sk-hidden--visually {border: 0;clip: rect(1px 1px 1px 1px);clip: rect(1px, 1px, 1px, 1px);height: 1px;margin: -1px;overflow: hidden;padding: 0;position: absolute;width: 1px;}#sk-container-id-3 div.sk-estimator {font-family: monospace;background-color: #f0f8ff;border: 1px dotted black;border-radius: 0.25em;box-sizing: border-box;margin-bottom: 0.5em;}#sk-container-id-3 div.sk-estimator:hover {background-color: #d4ebff;}#sk-container-id-3 div.sk-parallel-item::after {content: \"\";width: 100%;border-bottom: 1px solid gray;flex-grow: 1;}#sk-container-id-3 div.sk-label:hover label.sk-toggleable__label {background-color: #d4ebff;}#sk-container-id-3 div.sk-serial::before {content: \"\";position: absolute;border-left: 1px solid gray;box-sizing: border-box;top: 0;bottom: 0;left: 50%;z-index: 0;}#sk-container-id-3 div.sk-serial {display: flex;flex-direction: column;align-items: center;background-color: white;padding-right: 0.2em;padding-left: 0.2em;position: relative;}#sk-container-id-3 div.sk-item {position: relative;z-index: 1;}#sk-container-id-3 div.sk-parallel {display: flex;align-items: stretch;justify-content: center;background-color: white;position: relative;}#sk-container-id-3 div.sk-item::before, #sk-container-id-3 div.sk-parallel-item::before {content: \"\";position: absolute;border-left: 1px solid gray;box-sizing: border-box;top: 0;bottom: 0;left: 50%;z-index: -1;}#sk-container-id-3 div.sk-parallel-item {display: flex;flex-direction: column;z-index: 1;position: relative;background-color: white;}#sk-container-id-3 div.sk-parallel-item:first-child::after {align-self: flex-end;width: 50%;}#sk-container-id-3 div.sk-parallel-item:last-child::after {align-self: flex-start;width: 50%;}#sk-container-id-3 div.sk-parallel-item:only-child::after {width: 0;}#sk-container-id-3 div.sk-dashed-wrapped {border: 1px dashed gray;margin: 0 0.4em 0.5em 0.4em;box-sizing: border-box;padding-bottom: 0.4em;background-color: white;}#sk-container-id-3 div.sk-label label {font-family: monospace;font-weight: bold;display: inline-block;line-height: 1.2em;}#sk-container-id-3 div.sk-label-container {text-align: center;}#sk-container-id-3 div.sk-container {/* jupyter's `normalize.less` sets `[hidden] { display: none; }` but bootstrap.min.css set `[hidden] { display: none !important; }` so we also need the `!important` here to be able to override the default hidden behavior on the sphinx rendered scikit-learn.org. See: https://github.com/scikit-learn/scikit-learn/issues/21755 */display: inline-block !important;position: relative;}#sk-container-id-3 div.sk-text-repr-fallback {display: none;}</style><div id=\"sk-container-id-3\" class=\"sk-top-container\"><div class=\"sk-text-repr-fallback\"><pre>LogisticRegression(C=0.7, max_iter=1000, random_state=42)</pre><b>In a Jupyter environment, please rerun this cell to show the HTML representation or trust the notebook. <br />On GitHub, the HTML representation is unable to render, please try loading this page with nbviewer.org.</b></div><div class=\"sk-container\" hidden><div class=\"sk-item\"><div class=\"sk-estimator sk-toggleable\"><input class=\"sk-toggleable__control sk-hidden--visually\" id=\"sk-estimator-id-3\" type=\"checkbox\" checked><label for=\"sk-estimator-id-3\" class=\"sk-toggleable__label sk-toggleable__label-arrow\">LogisticRegression</label><div class=\"sk-toggleable__content\"><pre>LogisticRegression(C=0.7, max_iter=1000, random_state=42)</pre></div></div></div></div></div>"
      ],
      "text/plain": [
       "LogisticRegression(C=0.7, max_iter=1000, random_state=42)"
      ]
     },
     "execution_count": 49,
     "metadata": {},
     "output_type": "execute_result"
    }
   ],
   "source": [
    "# Terceira versão do Modelo usando LogistcRegression\n",
    "modelo_v3 = LogisticRegression(C = 0.7, random_state = 42, max_iter = 1000)\n",
    "modelo_v3.fit(x_treino_t,y_treino.ravel())"
   ]
  },
  {
   "cell_type": "code",
   "execution_count": 50,
   "id": "cb50574d-3b2a-42dc-b154-88dd47d19da7",
   "metadata": {},
   "outputs": [],
   "source": [
    "v3_predict_teste = modelo_v3.predict(x_teste_t)"
   ]
  },
  {
   "cell_type": "code",
   "execution_count": 51,
   "id": "fd424a60-8942-4c6a-99ab-64ada8f62a7a",
   "metadata": {},
   "outputs": [
    {
     "name": "stdout",
     "output_type": "stream",
     "text": [
      "Exatidão (Accuracy): 73.16\n"
     ]
    }
   ],
   "source": [
    "print(f'Exatidão (Accuracy): {round(metrics.accuracy_score(y_teste, v3_predict_teste)*100,2)}')"
   ]
  },
  {
   "cell_type": "markdown",
   "id": "30491be4-e119-4564-8452-d8ee04ace066",
   "metadata": {},
   "source": [
    "## Resumo"
   ]
  },
  {
   "cell_type": "code",
   "execution_count": 52,
   "id": "fc246b8d-068f-47a4-8bb5-ff84f0b729f7",
   "metadata": {},
   "outputs": [],
   "source": [
    "def accuracy(modelo, saida = y_teste):\n",
    "    return round(metrics.accuracy_score(y_teste, modelo)*100,2)"
   ]
  },
  {
   "cell_type": "code",
   "execution_count": 53,
   "id": "4906ccd4-6ac9-44d0-9e7b-016e8a118361",
   "metadata": {},
   "outputs": [],
   "source": [
    "algoritimos_testados = dict(\n",
    "    [('GaussianNB', [v1_predict_teste, modelo_v1]),\n",
    "     ('RandomForestClassifier', [v2_predict_teste, modelo_v2]),\n",
    "     ('LogisticRegression', [v3_predict_teste, modelo_v2])])"
   ]
  },
  {
   "cell_type": "code",
   "execution_count": 54,
   "id": "11e72ee5-6263-43db-8728-6673ff257ece",
   "metadata": {},
   "outputs": [
    {
     "name": "stdout",
     "output_type": "stream",
     "text": [
      "Modelo usando o Algorítimo GaussianNB - Accuracy: 71.0%\n",
      "Modelo usando o Algorítimo RandomForestClassifier - Accuracy: 73.59%\n",
      "Modelo usando o Algorítimo LogisticRegression - Accuracy: 73.16%\n"
     ]
    }
   ],
   "source": [
    "for i in algoritimos_testados.keys():\n",
    "    print(f'Modelo usando o Algorítimo {i} - Accuracy: {accuracy(algoritimos_testados[i][0])}%')\n",
    "    algoritimos_testados[i].append(accuracy(algoritimos_testados[i][0]))"
   ]
  },
  {
   "cell_type": "markdown",
   "id": "950eccba-ce27-417e-ae5f-da5e34aaea18",
   "metadata": {},
   "source": [
    "* Determinando o Melhor Modelo"
   ]
  },
  {
   "cell_type": "code",
   "execution_count": 55,
   "id": "a8fe266b-6dd0-43f4-9c40-c960cd7d6ab6",
   "metadata": {},
   "outputs": [],
   "source": [
    "melhor_modelo = []\n",
    "for i in algoritimos_testados.keys():\n",
    "    if len(melhor_modelo) == 0:\n",
    "        melhor_modelo.append(i)\n",
    "        melhor_modelo.append(algoritimos_testados[i][0])\n",
    "        melhor_modelo.append(algoritimos_testados[i][1])\n",
    "        melhor_modelo.append(algoritimos_testados[i][2])\n",
    "    if melhor_modelo[3] < algoritimos_testados[i][2]:\n",
    "        melhor_modelo = [i, algoritimos_testados[i][0], algoritimos_testados[i][1], algoritimos_testados[i][2]]"
   ]
  },
  {
   "cell_type": "code",
   "execution_count": 56,
   "id": "3a6f7086-2dd6-478d-8c6d-263c3d2fe69a",
   "metadata": {},
   "outputs": [
    {
     "data": {
      "text/plain": [
       "['RandomForestClassifier',\n",
       " array([0, 0, 0, 0, 0, 1, 0, 1, 1, 1, 0, 1, 0, 0, 0, 0, 0, 0, 1, 0, 0, 0,\n",
       "        1, 0, 1, 1, 0, 0, 0, 0, 1, 1, 1, 1, 1, 1, 1, 0, 0, 1, 0, 0, 1, 0,\n",
       "        0, 1, 1, 0, 0, 1, 0, 1, 1, 0, 0, 0, 1, 0, 0, 1, 1, 0, 0, 0, 0, 1,\n",
       "        0, 1, 0, 1, 1, 0, 0, 0, 0, 0, 0, 0, 0, 0, 1, 0, 0, 1, 0, 1, 1, 0,\n",
       "        0, 0, 0, 0, 0, 1, 0, 0, 1, 0, 1, 0, 1, 0, 0, 1, 1, 0, 0, 1, 0, 0,\n",
       "        0, 1, 0, 1, 0, 1, 1, 0, 0, 1, 0, 0, 0, 0, 0, 1, 1, 1, 1, 1, 1, 1,\n",
       "        0, 0, 1, 0, 0, 1, 1, 0, 0, 0, 0, 0, 0, 0, 0, 0, 0, 1, 0, 0, 0, 0,\n",
       "        0, 1, 0, 0, 1, 0, 0, 1, 0, 0, 0, 1, 0, 0, 1, 1, 1, 0, 1, 1, 1, 0,\n",
       "        0, 0, 1, 0, 0, 0, 1, 1, 1, 0, 0, 0, 1, 1, 0, 0, 1, 0, 0, 0, 0, 0,\n",
       "        0, 1, 0, 0, 0, 0, 1, 0, 0, 0, 1, 0, 0, 0, 0, 0, 1, 0, 1, 1, 0, 1,\n",
       "        1, 0, 0, 0, 0, 1, 0, 0, 0, 0, 0], dtype=int64),\n",
       " RandomForestClassifier(random_state=42),\n",
       " 73.59]"
      ]
     },
     "execution_count": 56,
     "metadata": {},
     "output_type": "execute_result"
    }
   ],
   "source": [
    "melhor_modelo"
   ]
  },
  {
   "cell_type": "markdown",
   "id": "ea161eab-31de-42fa-85e3-39ad7796ca0e",
   "metadata": {},
   "source": [
    "## Fazendo Prevsões com o Melhor Modelo Treinado"
   ]
  },
  {
   "cell_type": "code",
   "execution_count": 57,
   "id": "55ee27c6-8feb-4215-8af8-f62b1c5300fc",
   "metadata": {},
   "outputs": [],
   "source": [
    "import pickle"
   ]
  },
  {
   "cell_type": "code",
   "execution_count": 58,
   "id": "b571fd10-ed2a-4c6e-93ac-7922107b3c4f",
   "metadata": {},
   "outputs": [],
   "source": [
    "# salvando o modelo para usar mais tarde\n",
    "filename = 'melhor_modelo.sav'\n",
    "pickle.dump(melhor_modelo[2], open(filename, 'wb'))"
   ]
  },
  {
   "cell_type": "code",
   "execution_count": 59,
   "id": "1ca7e746-74cb-4ca5-9390-9d737ae79855",
   "metadata": {},
   "outputs": [
    {
     "data": {
      "text/plain": [
       "array([[33.        ,  1.3002    , 34.        , ..., 58.        ,\n",
       "        43.        ,  6.        ],\n",
       "       [32.        ,  1.2608    , 35.7       , ..., 75.        ,\n",
       "        21.        ,  2.        ],\n",
       "       [30.37974684,  1.19696203, 30.8       , ..., 64.        ,\n",
       "        21.        ,  2.        ],\n",
       "       ...,\n",
       "       [37.        ,  1.4578    , 36.3       , ..., 80.        ,\n",
       "        23.        ,  4.85714286],\n",
       "       [32.        ,  1.2608    , 30.8       , ..., 70.        ,\n",
       "        37.        ,  6.        ],\n",
       "       [41.        ,  1.6154    , 35.8       , ..., 82.        ,\n",
       "        35.        ,  5.        ]])"
      ]
     },
     "execution_count": 59,
     "metadata": {},
     "output_type": "execute_result"
    }
   ],
   "source": [
    "x_teste_t"
   ]
  },
  {
   "cell_type": "code",
   "execution_count": 89,
   "id": "a693c1a7-8b5a-4dc5-a28d-108e560b2b38",
   "metadata": {},
   "outputs": [],
   "source": [
    "# Carregando o modelo e fazendo previsão com novos conjuntos de dados\n",
    "modelo_carregado = pickle.load(open(filename, 'rb'))\n",
    "result1 = modelo_carregado.predict(x_teste_t[15].reshape(1,-1))\n",
    "result2 = modelo_carregado.predict(x_teste_t[18].reshape(1,-1))"
   ]
  },
  {
   "cell_type": "code",
   "execution_count": 90,
   "id": "e4050928-aa32-4126-86d9-b406a566d098",
   "metadata": {},
   "outputs": [
    {
     "name": "stdout",
     "output_type": "stream",
     "text": [
      "[0] [1]\n",
      "[1] [1]\n"
     ]
    }
   ],
   "source": [
    "print(result1, y_teste[15])\n",
    "print(result2, y_teste[18])"
   ]
  },
  {
   "cell_type": "code",
   "execution_count": null,
   "id": "f74421bf-b2a4-4b7b-a4ea-4adff56597dd",
   "metadata": {},
   "outputs": [],
   "source": []
  }
 ],
 "metadata": {
  "kernelspec": {
   "display_name": "Python 3",
   "language": "python",
   "name": "python3"
  },
  "language_info": {
   "codemirror_mode": {
    "name": "ipython",
    "version": 3
   },
   "file_extension": ".py",
   "mimetype": "text/x-python",
   "name": "python",
   "nbconvert_exporter": "python",
   "pygments_lexer": "ipython3",
   "version": "3.9.12"
  }
 },
 "nbformat": 4,
 "nbformat_minor": 5
}
